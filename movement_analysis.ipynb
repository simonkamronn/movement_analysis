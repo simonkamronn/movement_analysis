{
 "cells": [
  {
   "cell_type": "markdown",
   "metadata": {},
   "source": [
    "# Exploratory analysis of location data\n",
    "Simon Kamronn, sdka@dtu.dk <br/>\n",
    "Technical University of Denmark <br/>\n",
    "\n",
    "## Introduction\n",
    "Analysis of spatio-temporal movement data can seem to be a privilegium of the Geographical Information Science(GISc) community and require the use of traditional Geographic Information System(GIS) tools (e.g. ArcGIS). Tools of which most are either expensive or difficult to learn to use efficiently and correctly. They can naturally add great value to the analysis but can also be an obstacle for outsiders and hamper the understanding of underlying algorithms applied to the data. Furthermore, relying on existing tools you may arrive at the wrong conclusion because the tools doesn't fit the question you ask.  \n",
    "\n",
    "As mentioned in (Van der Spek, 2009) movement tracking through GPS was at that time identified as having great potential for analysing movement patterns in cities but they also foresaw difficulties in analysing the data with their relatively manual approach relying on visualizations. The possible scale of this type of study was seen in (Stopczynski, 2014) with a cohort of 1000 individuals in Copenhagen spanning multiple years. At this scale automation of analysis becomes a necessity fast. Because movement analysis is an important topic in GISc it has received a lot of attention in research and development over the past decade. Some even argues that Computational Movement Analysis(CMA) has reached a level in which all the *soft* problems are solved but many harder problems with more abstract inferences are still not addressed(Laube, 2015). The *hard* problems are of particular interest because it is here we move into the realm of cognition and begin to understand human behaviour. \n",
    "\n",
    "In the study my PhD project is part of we explore the ability of smartphones and apps (as personalized lifestyle devices) to motivate, monitor, and maintain physical activity in overweight individuals. Specifically the project address smartphone and wearable sensing as means to monitor physical activity, estimate energy expenditure, establish the domains in daily life (home, transportation, occupational and leisure) in which physical activity occur, as well as assist individuals in maintaining physical activity through biofeedback interfaces.\n",
    "\n",
    "The project is carried out in collaboration with University of Copenhagen (KU Sund) and leverages an ongoing randomized clinical trial, GO-ACTIWE (Governing Obesity- Active Commuting to Improve Well-being and health in Everyday life), in which the health effects of physical activity in transportation and leisure-time domains of everyday life is evaluated. Participants in the GO-ACTIWE trial are randomized to one of four 6-month interventions consisting of 3 different exercise regimes and one control group. Participants undergo rigorous biomedical testing before and at 1, 3 and 6 months of the intervention and data on physical activity and energy expenditure will be acquired and participants will be monitored across multiple domains.\n",
    "\n",
    "From the presentations of mainly Patrick Laube and Stefan van der Spek during the PhD course Human mobility, cognition and GISc, I was introduced to a broader scope of opportunities in analysing spatio-temporal data, specifically trajectories and the behavioural aspects. I have here chosen to analyse the data I have available without using a GIS toolbox in order to not confine myself within the traditions of GISc but still retain the possibility of drawing inspiration from the literature.\n",
    "\n",
    "In the spirit of Quantified Self, the concept of quantifying yourself through tracking, I will analyse my movement data collected by my smartphone and stored by Google. That is, data that is available to anyone with a smartphone and any researcher with permission to access the data. I choose this perspective because my project concerns what we can infer from personal devices and from sharing this hopefully someone will find it useful. The approach is very ad hoc and progress in a natural way with each step building on the previous. "
   ]
  },
  {
   "cell_type": "markdown",
   "metadata": {},
   "source": [
    "## Setup\n",
    "This is a Jupyter Notebook in which it is possible to both write text and evaluate code and such there will be rather long segments of code that is not necessary to read and understand. To every cell of code there is a comment to its purpose and if it produces an output that is commented as well so it should be sufficient to only read those but the code may explain in more detail. This first cell just imports the Python libraries we use. "
   ]
  },
  {
   "cell_type": "code",
   "execution_count": 1,
   "metadata": {
    "collapsed": false
   },
   "outputs": [],
   "source": [
    "# Set up imports\n",
    "import os\n",
    "import base64\n",
    "import pickle\n",
    "import json\n",
    "import oauth2client.client\n",
    "from googleapiclient.discovery import build\n",
    "from datetime import datetime, timedelta\n",
    "import httplib2\n",
    "\n",
    "import numpy as np\n",
    "import pandas as pd\n",
    "from sensible.stops import getstops_dbscan\n",
    "\n",
    "%matplotlib inline\n",
    "import matplotlib\n",
    "import matplotlib.pyplot as plt\n",
    "plt.style.use('ggplot')\n",
    "matplotlib.rcParams['figure.figsize'] = (16, 8)\n",
    "\n",
    "from time import time\n",
    "from geopy.distance import distance\n",
    "from geopy.geocoders import GoogleV3\n",
    "import googlemaps\n",
    "\n",
    "import folium\n",
    "from folium.plugins import MarkerCluster\n",
    "from folium.features import PolyLine, MultiPolyLine\n",
    "from IPython.display import display"
   ]
  },
  {
   "cell_type": "markdown",
   "metadata": {},
   "source": [
    "### Pull data from Google"
   ]
  },
  {
   "cell_type": "markdown",
   "metadata": {
    "collapsed": true
   },
   "source": [
    "Load Google API key for later use and credentials from JSON file. To run the code you need to acquire these yourself. "
   ]
  },
  {
   "cell_type": "code",
   "execution_count": 2,
   "metadata": {
    "collapsed": false
   },
   "outputs": [],
   "source": [
    "with file('client_secrets.json') as f:\n",
    "    d = json.load(f)\n",
    "    api_key = d['geocoding_api_key']\n",
    "    credentials_str = d['google_credentials']"
   ]
  },
  {
   "cell_type": "markdown",
   "metadata": {},
   "source": [
    "The credentials are pickled in a CredentialsModel object from *oauth2client.client* so unpickling gives us this object directly"
   ]
  },
  {
   "cell_type": "code",
   "execution_count": 3,
   "metadata": {
    "collapsed": true
   },
   "outputs": [],
   "source": [
    "credentials = pickle.loads(base64.b64decode(credentials_str))"
   ]
  },
  {
   "cell_type": "markdown",
   "metadata": {},
   "source": [
    "Because both authentication and refresh token are stored in the object we can easily authorize with Google's backend. The authorization tokens only last an hour but the refresh token last untill they are revoked. Connecting to the service we want to acquire data from is done through *googleapiclient.discovery.build*"
   ]
  },
  {
   "cell_type": "code",
   "execution_count": 4,
   "metadata": {
    "collapsed": true
   },
   "outputs": [],
   "source": [
    "http = httplib2.Http()\n",
    "http = credentials.authorize(http)\n",
    "service = build('fitness', 'v1', http=http)"
   ]
  },
  {
   "cell_type": "markdown",
   "metadata": {},
   "source": [
    "It is quite difficult to find out what datasources that are available from the documentation. My guess is because it depends on the data collected by the user and any app can make a new datasource so keeping a record is impossible. To get the available datasources you can query them. In this case I only look at the *derived* sources that are a collection of data from multiple *raw* sources"
   ]
  },
  {
   "cell_type": "code",
   "execution_count": 5,
   "metadata": {
    "collapsed": false
   },
   "outputs": [
    {
     "name": "stdout",
     "output_type": "stream",
     "text": [
      "derived:com.google.activity.segment:com.google.android.gms:activity_from_steps\n",
      "derived:com.google.activity.segment:com.google.android.gms:merge_activity_segments\n",
      "derived:com.google.activity.segment:com.google.android.gms:platform_activity_segments\n",
      "derived:com.google.activity.segment:com.google.android.gms:session_activity_segment\n",
      "derived:com.google.activity.segment:fi.polar.beat:session_activity_segment\n",
      "derived:com.google.activity.segment:fi.polar.polarflow:session_activity_segment\n",
      "derived:com.google.calories.bmr:com.google.android.gms:from_height&weight\n",
      "derived:com.google.calories.bmr:com.google.android.gms:merged\n",
      "derived:com.google.calories.expended:com.google.android.gms:default_calories_expended\n",
      "derived:com.google.calories.expended:com.google.android.gms:from_activities\n",
      "derived:com.google.calories.expended:com.google.android.gms:from_bmr\n",
      "derived:com.google.calories.expended:com.google.android.gms:merge_calories_expended\n",
      "derived:com.google.calories.expended:com.google.android.gms:platform_calories_expended\n",
      "derived:com.google.distance.delta:com.google.android.gms:from_steps<-merge_step_deltas\n",
      "derived:com.google.distance.delta:com.google.android.gms:from_third_party_location<-raw:com.google.location.sample:fi.polar.polarflow:\n",
      "derived:com.google.distance.delta:com.google.android.gms:merge_distance_delta\n",
      "derived:com.google.distance.delta:com.google.android.gms:platform_distance_delta\n",
      "derived:com.google.distance.delta:com.google.android.gms:pruned_distance\n",
      "derived:com.google.floor_change:com.google.android.gms:merge_floor_change\n",
      "derived:com.google.heart_rate.bpm:com.google.android.gms:merge_heart_rate_bpm\n",
      "derived:com.google.height:com.google.android.gms:merge_height\n",
      "derived:com.google.location.sample:com.google.android.gms:merge_location_samples\n",
      "derived:com.google.speed:com.google.android.gms:merge_speed\n",
      "derived:com.google.step_count.delta:com.google.android.gms:estimated_steps\n",
      "derived:com.google.step_count.delta:com.google.android.gms:merge_step_deltas\n",
      "derived:com.google.weight:com.google.android.gms:merge_weight\n"
     ]
    }
   ],
   "source": [
    "dataSources = service.users().dataSources().list(userId=\"me\").execute()\n",
    "\n",
    "# Available derived data sources\n",
    "our_sources =[]\n",
    "for s in dataSources['dataSource']:\n",
    "    s = s['dataStreamId']\n",
    "    if s.startswith('derived') and not any([x in s for x in ['Nexus', 'samsung', 'Sony']]):\n",
    "        our_sources.append(s)\n",
    "        print(s)"
   ]
  },
  {
   "cell_type": "markdown",
   "metadata": {
    "collapsed": false
   },
   "source": [
    "To query data we need to specify a start and end time in nanoseconds. The limit to how many samples we can get in one query seems to be 100.000 and depending on datasource that can span from months to many years. With location it is around 9 months for me but that also varies across people since the datasource is not sampled uniformly. "
   ]
  },
  {
   "cell_type": "code",
   "execution_count": 6,
   "metadata": {
    "collapsed": false
   },
   "outputs": [],
   "source": [
    "num_days = 365  # Limited to 100000 samples so this is too long but the backend will truncate\n",
    "\n",
    "# num_days days ago\n",
    "dt = datetime.strptime(datetime.date(datetime.today() - timedelta(days=num_days)).strftime('%Y-%m-%d'), '%Y-%m-%d')\n",
    "start_time_nsec = (dt - datetime(1970, 1, 1)).total_seconds() * 1e9\n",
    "end_time_nsec = (datetime.today() - datetime(1970, 1, 1)).total_seconds() * 1e9"
   ]
  },
  {
   "cell_type": "markdown",
   "metadata": {
    "collapsed": true
   },
   "source": [
    "To make the query and formatting easy I've defined two functions; one to get the data and one to format it into a Pandas DataFrame. The DataFrame is a very nice data structure that makes manipulation and visualization easier in many cases."
   ]
  },
  {
   "cell_type": "code",
   "execution_count": 11,
   "metadata": {
    "collapsed": true
   },
   "outputs": [],
   "source": [
    "# https://developers.google.com/resources/api-libraries/documentation/fitness/v1/python/latest/\n",
    "# fitness_v1.users.dataSources.datasets.html#get\n",
    "def query_fit(dataSourceId):\n",
    "    if dataSourceId in our_sources:\n",
    "        try:\n",
    "            result = service.users().dataSources().datasets(). \\\n",
    "                get(userId=\"me\", dataSourceId=dataSourceId, datasetId=\"%i-%i\" % (start_time_nsec, end_time_nsec)). \\\n",
    "                execute()\n",
    "        except oauth2client.client.AccessTokenRefreshError, e:\n",
    "            # Access has possibly been revoked. Remove from database\n",
    "            print(e)\n",
    "            result = []\n",
    "    else:\n",
    "        result = []\n",
    "    return result\n",
    "\n",
    "def query_to_df(result, datatypes=[]):\n",
    "    if result == []:\n",
    "        return pd.DataFrame()\n",
    "    df = pd.DataFrame(result['point'])\n",
    "    df = df.drop(['dataTypeName', 'modifiedTimeMillis'], axis=1)\n",
    "    for idx, datatype in enumerate(datatypes):\n",
    "        df[datatype] = df['value'].apply(lambda x: x[idx].values()[0] if len(x) > idx else 0)\n",
    "    df = df.drop('value', axis=1)\n",
    "    # Set timestamp as out index\n",
    "    df['timestamp'] = pd.to_datetime(df['startTimeNanos'].astype(np.int64), unit='ns')\n",
    "    df = df.set_index('timestamp')\n",
    "    # Rename startTimeNanos to timestamp\n",
    "    df = df.rename(columns={'startTimeNanos':'timestamp'})\n",
    "    df['timestamp'] = df['timestamp'].astype(np.int64)\n",
    "    return df"
   ]
  },
  {
   "cell_type": "markdown",
   "metadata": {},
   "source": [
    "Because the data takes a while to get and there is a limit to how many queries we can make for free I save the data in a HDF5 file. "
   ]
  },
  {
   "cell_type": "code",
   "execution_count": 12,
   "metadata": {
    "collapsed": true
   },
   "outputs": [],
   "source": [
    "hdf_file = 'data/google_data.h5'\n",
    "store = pd.HDFStore(hdf_file)\n",
    "if 'location' in store:\n",
    "    df = store['location']\n",
    "else:\n",
    "    # Query data\n",
    "    location_source_id = 'derived:com.google.location.sample:com.google.android.gms:merge_location_samples'\n",
    "    result = query_fit(location_source_id)\n",
    "    df = query_to_df(result, ['lat', 'lon', 'accuracy', 'altitude'])\n",
    "    df = df.drop(['originDataSourceId', 'altitude'], axis=1)\n",
    "    df.columns = ['departure', 'timestamp', 'lat', 'lon', 'accuracy']\n",
    "    df['departure'] = pd.to_numeric(df['departure'])\n",
    "\n",
    "    # Save to store\n",
    "    store['location'] = df\n",
    "store.close()"
   ]
  },
  {
   "cell_type": "markdown",
   "metadata": {},
   "source": [
    "In the same way we can get data from all the other datasources such as *Activity* but that is not used further in this notebook"
   ]
  },
  {
   "cell_type": "code",
   "execution_count": 13,
   "metadata": {
    "collapsed": false
   },
   "outputs": [],
   "source": [
    "store = pd.HDFStore(hdf_file)\n",
    "if 'activity' in store:\n",
    "    df_activity = store['activity']\n",
    "else:\n",
    "    activity_source_id = 'derived:com.google.activity.segment:com.google.android.gms:merge_activity_segments'\n",
    "    result = query_fit(activity_source_id)\n",
    "    df_activity = query_to_df(result, ['activity'])\n",
    "\n",
    "    # Save to store\n",
    "    store['activity'] = df\n",
    "store.close()"
   ]
  },
  {
   "cell_type": "markdown",
   "metadata": {},
   "source": [
    "## Stops\n",
    "Stop locations are important when analysing spatial location data because they can give structure and meaning. Stops are typically defined with spatial and temporal boundaries that will cluster points with a similarity that is meaningful to later analysis.\n",
    "\n",
    "__Clustering algorithm__<br>\n",
    "The method applied clusters the points in two stages(Cuttone, 2014). At first the points within a distance are assigned to groups sequentially with the first point as the reference. If a point is too far from the first point in the group, a new group is created with that point as the reference. Initially this strategy creates a lot of groups but by discarding groups where the stay period is smaller than a threshold removes most of them. In this case 15 minutes was chosen as stay threshold and 150 meters as spatial cluster limit based on empirical results from (Cuttone, 2014).\n",
    "\n",
    "After finding spatially and temporally separated groups, a new clustering algorithm is applied to label groups based solely on their spatial location. To this end we use the the DBSCAN algorithm which clusters points in high density areas separated by areas of low density. It is a natural and popular choice when clustering stop locations (Singh, 2015)."
   ]
  },
  {
   "cell_type": "code",
   "execution_count": 14,
   "metadata": {
    "collapsed": false
   },
   "outputs": [],
   "source": [
    "min_deltat = 15*60*1e9  # minimum minutes in cluster\n",
    "group_dist = 150  # meters\n",
    "dbscan_dist = 150  # meters\n",
    "\n",
    "stops, db = getstops_dbscan('researcher', \n",
    "                            df, \n",
    "                            group_dist=group_dist, \n",
    "                            dbscan_dist=dbscan_dist, \n",
    "                            min_deltat=min_deltat, \n",
    "                            min_samples=1)\n",
    "\n",
    "# Identify the duration of each stop and align the timestamp to be in the middle\n",
    "stops['time_spent'] = (stops['departure'] - stops['arrival'])\n",
    "stops['timestamp'] = pd.to_datetime(stops['arrival'] + stops['time_spent']/2)\n",
    "stops = stops.set_index('timestamp')\n",
    "stops['time_spent'] = stops['time_spent'].div(1e9)  # Convert to seconds\n",
    "\n",
    "# Rename to more reasonable name\n",
    "df = df.rename(columns={'timestamp': 'arrival'})"
   ]
  },
  {
   "cell_type": "markdown",
   "metadata": {},
   "source": [
    "Looking closer at the found stops we see that we have 1098 stops in total but if we plot the count of stops in a descending order we see that half the stops are within the first 2 clusters. This obviously suggests home and work for most people. By far most of the stops has only been visited few times. "
   ]
  },
  {
   "cell_type": "code",
   "execution_count": 15,
   "metadata": {
    "collapsed": false
   },
   "outputs": [
    {
     "name": "stdout",
     "output_type": "stream",
     "text": [
      "We found 1098 stops where 51.09% of the stops are from the first 2 clusters.\n",
      "Amount of places visited less than 5 times is 155 out of 183.\n"
     ]
    },
    {
     "data": {
      "image/png": "[encoded data removed]",
      "text/plain": [
       "<matplotlib.figure.Figure at 0x1b759fd0>"
      ]
     },
     "metadata": {},
     "output_type": "display_data"
    }
   ],
   "source": [
    "cluster_counts = stops['label'].value_counts()\n",
    "cluster_labels = set(stops['label'])\n",
    "print('We found %d stops where %.2f%% of the stops are from the first 2 clusters.' % \\\n",
    "      (cluster_counts.sum(), \n",
    "       cluster_counts[:2].sum()/float(cluster_counts.sum())*100))\n",
    "print('Amount of places visited less than 5 times is %d out of %d.' % \\\n",
    "      (cluster_counts[cluster_counts<5].count(), cluster_counts.count()))\n",
    "\n",
    "ax = cluster_counts.reset_index(drop=True).plot(figsize=(16,4), logy=True, title=\"Number of stops in different clusters\");\n",
    "ax.set_ylabel('Stops (log scale)'); ax.set_xlabel('Cluster number');"
   ]
  },
  {
   "cell_type": "markdown",
   "metadata": {},
   "source": [
    "The duration of a stop varies from 15 minutes to hours so it is probably more correct to look at the time spent at each stop. Interestingly we see that outside the home and work, the time spent at different destinations are logarithmically declining. The amount of time at home or at work explains a larger amount of the total time compared to just the number of stops. This is, however, expected since the algorithm should create one long stop from when we arrive to when we leave. "
   ]
  },
  {
   "cell_type": "code",
   "execution_count": 16,
   "metadata": {
    "collapsed": false
   },
   "outputs": [
    {
     "name": "stdout",
     "output_type": "stream",
     "text": [
      "76.34% of the total time at stops are spent in the first 2 clusters.\n"
     ]
    },
    {
     "data": {
      "image/png": "[encoded data removed]",
      "text/plain": [
       "<matplotlib.figure.Figure at 0x200a7748>"
      ]
     },
     "metadata": {},
     "output_type": "display_data"
    }
   ],
   "source": [
    "cluster_medians = stops[['label', 'lat', 'lon']].groupby('label').agg(np.median)\n",
    "cluster_medians['time_spent'] = stops[['label', 'time_spent']].groupby('label').agg(np.sum)\n",
    "cluster_medians = cluster_medians.sort_values(by='time_spent', ascending=False).reset_index()\n",
    "\n",
    "ax = cluster_medians['time_spent'].plot(figsize=(16,4), logy=True, title=\"Time spent in different clusters\");\n",
    "ax.set_ylabel('Seconds (log scale)'); ax.set_xlabel('Cluster number');\n",
    "\n",
    "print('%.2f%% of the total time at stops are spent in the first 2 clusters.' %\n",
    "      (cluster_medians['time_spent'][:2].sum()/float(cluster_medians['time_spent'].sum())*100));"
   ]
  },
  {
   "cell_type": "markdown",
   "metadata": {
    "collapsed": false
   },
   "source": [
    "### Reverse Geocoding from location\n",
    "With the location there are a number of services that can be used for reverse geocoding, to look up an address from a location. The best known geocoding services are probably OpenStreetMaps and Google which both are available through *geopy.geocoders*. In this case the address can be useful in determining what meaning a stop location has. Home, work, shopping etc."
   ]
  },
  {
   "cell_type": "code",
   "execution_count": null,
   "metadata": {
    "collapsed": true
   },
   "outputs": [],
   "source": [
    "geocoder = GoogleV3(api_key=api_key, domain=\"maps.google.dk\")\n",
    "\n",
    "def reverse_lookup(query):\n",
    "    return geocoder.reverse(query, exactly_one=True, timeout=None, language=None, sensor=False)"
   ]
  },
  {
   "cell_type": "code",
   "execution_count": null,
   "metadata": {
    "collapsed": false
   },
   "outputs": [],
   "source": [
    "cluster_names = []\n",
    "for lat, lon in cluster_medians[['lat', 'lon']].itertuples(index=False):\n",
    "    cluster_names.append(reverse_lookup((lat, lon)).address)\n",
    "cluster_medians['address'] = cluster_names"
   ]
  },
  {
   "cell_type": "code",
   "execution_count": null,
   "metadata": {
    "collapsed": false
   },
   "outputs": [],
   "source": [
    "cluster_medians[:5]"
   ]
  },
  {
   "cell_type": "markdown",
   "metadata": {},
   "source": [
    "From the reverse lookup I can identify the first cluster as my home, the second and fifth as my working places, the third as my parents home and the fourth as a place of vacation this september. "
   ]
  },
  {
   "cell_type": "markdown",
   "metadata": {},
   "source": [
    "### Aggregate in days, weeks etc. over the full period\n",
    "With all the stops identified we can look at summaries across different slices, e.g. weekdays and hours on the day. We know that about half of the time in the stops is contained in the first two clusters so I will limit the following to the top 5. "
   ]
  },
  {
   "cell_type": "code",
   "execution_count": null,
   "metadata": {
    "collapsed": false
   },
   "outputs": [],
   "source": [
    "top_labels = cluster_medians['label'][:5]\n",
    "\n",
    "# Create containers with indexes at the resolution we want to look at\n",
    "df_hour_of_day = pd.DataFrame(0, index=range(0, 24), columns=top_labels)\n",
    "df_hour_of_day_wk = pd.DataFrame(0, index=range(0, 24), columns=top_labels)\n",
    "df_day_of_week = pd.DataFrame(0, index=range(0, 7), columns=top_labels)\n",
    "df_day_of_year = pd.DataFrame(0, index=range(0, 366), columns=top_labels)\n",
    "\n",
    "# Iterate over all the stops that are in the top five clusters based on time spent\n",
    "for i in stops[stops['label'].isin(top_labels)].itertuples():\n",
    "    idx, user, lon, lat, arrival, departure, label, time_spent = i\n",
    "    \n",
    "    # Create a Pandas Series object with indices from arrival to departure at a frequency of one minute\n",
    "    ts = pd.Series(0, index=pd.date_range(pd.to_datetime(arrival), pd.to_datetime(departure), freq='Min'))\n",
    "    \n",
    "    # Aggregate on different levels. We simply count the number of items in each group. Each item represents 1 minute\n",
    "    ts_i = ts[ts.index.dayofweek<5]\n",
    "    for ts_idx, ts_count in ts_i.groupby(ts_i.index.hour).count().iteritems():\n",
    "        df_hour_of_day[label][ts_idx] += ts_count/60\n",
    "    \n",
    "    ts_i = ts[ts.index.dayofweek>4]\n",
    "    for ts_idx, ts_count in ts_i.groupby(ts_i.index.hour).count().iteritems():\n",
    "        df_hour_of_day_wk[label][ts_idx] += ts_count/60\n",
    "        \n",
    "    for ts_idx, ts_count in ts.groupby(ts.index.dayofweek).count().iteritems():\n",
    "        df_day_of_week[label][ts_idx] += ts_count/60\n",
    "        \n",
    "    for ts_idx, ts_count in ts.groupby(ts.index.dayofyear).count().iteritems():\n",
    "        df_day_of_year[label][ts_idx] += ts_count/60"
   ]
  },
  {
   "cell_type": "code",
   "execution_count": null,
   "metadata": {
    "collapsed": false
   },
   "outputs": [],
   "source": [
    "fig, axes = plt.subplots(nrows=2, ncols=2)\n",
    "df_hour_of_day.plot(title=\"a) Hour of day in week days\", ax=axes[0, 0]);\n",
    "df_hour_of_day_wk.plot(legend=False, title=\"b) Hour of day in weekends\", ax=axes[0, 1]);\n",
    "df_day_of_week.plot(legend=False, title=\"c) Day of week\", ax=axes[1,0]);\n",
    "df_day_of_year.plot(legend=False, title=\"d) Day of year\", ax=axes[1,1]);\n",
    "axes[0, 0].set_ylabel('Hours'), axes[1, 0].set_ylabel('Hours');"
   ]
  },
  {
   "cell_type": "markdown",
   "metadata": {
    "collapsed": false
   },
   "source": [
    "From the four different plots we can make some educated guesses about what these locations has of significance. From **a)** we can see that cluster 0 must be home since a lot of time is spent at night while cluster 8 must be work since many hours in the middle of the day is used here. The yellow line, cluster 3, is a bit odd but this is because I some times have meetings at KU in the morning after which I go home to work. From **b)** and **c)** we can further see that cluster 17 is a place almost only visited during weekends and is incidently my parents home i Aarhus. The last cluster is difficult to infer anything about from the first three plots but from **d)** we see that it emerges for a short period from which we can infer that it is a vacataion or external stay of a kind. In most cases it is probably save to infer home from the cluster which most time is spent during night and work as the cluster with most time spent at e.g. 10 am. "
   ]
  },
  {
   "cell_type": "code",
   "execution_count": null,
   "metadata": {
    "collapsed": false
   },
   "outputs": [],
   "source": [
    "label_home = np.argmax(df_hour_of_day.ix[0])\n",
    "label_work = np.argmax(df_hour_of_day.drop(label_home, axis=1).ix[10])\n",
    "print(\"Label for home: %d and work: %d\" % (label_home, label_work))"
   ]
  },
  {
   "cell_type": "markdown",
   "metadata": {
    "collapsed": false
   },
   "source": [
    "### Analysing stops based on the distance\n",
    "The clustering boundaries have a large effect on the size and resolution of stops so in order to examine whether we made a good choice for our analysis, one way is to visualize the distance between all clusters. To get a meaningful representation I ordered the stops with respect to the distance from the *home* cluster in ascending order."
   ]
  },
  {
   "cell_type": "code",
   "execution_count": null,
   "metadata": {
    "collapsed": false
   },
   "outputs": [],
   "source": [
    "# Find the distance from the home cluster\n",
    "distance_from_home = np.empty(len(cluster_medians), dtype=np.float64)\n",
    "for j in range(len(cluster_medians)):\n",
    "    distance_from_home[j] = distance((cluster_medians['lat'][0], cluster_medians['lon'][0]),\n",
    "                                     (cluster_medians['lat'][j], cluster_medians['lon'][j])).km\n",
    "# Order by distance from home\n",
    "cluster_medians_dist = cluster_medians.copy()\n",
    "cluster_medians_dist['dist'] = distance_from_home\n",
    "cluster_medians_dist = cluster_medians_dist.sort_values(by='dist').reset_index()\n",
    "\n",
    "# Find all inter-cluster distances\n",
    "num_clusters = len(cluster_medians_dist)\n",
    "cluster_distance_matrix = np.zeros((num_clusters, num_clusters))\n",
    "for i in xrange(num_clusters):\n",
    "    for j in xrange(num_clusters):\n",
    "        cluster_distance_matrix[i, j] = distance((cluster_medians_dist['lat'][i], cluster_medians_dist['lon'][i]),\n",
    "                                                 (cluster_medians_dist['lat'][j], cluster_medians_dist['lon'][j])).km"
   ]
  },
  {
   "cell_type": "markdown",
   "metadata": {},
   "source": [
    "Now I have generated a matrix of size *number of clusters x number of clusters* with increasing distance along the *x* and *y* direction. Because the distances vary a lot I will use a logarithmic scale when illustrating."
   ]
  },
  {
   "cell_type": "code",
   "execution_count": null,
   "metadata": {
    "collapsed": false
   },
   "outputs": [],
   "source": [
    "# Normalise the distances to be between 0 and 1\n",
    "full_matrix = (cluster_distance_matrix - cluster_distance_matrix.min())/cluster_distance_matrix.max()\n",
    "\n",
    "# Restrict to the first 90 which corresponds to about 20 km away from home and normalise\n",
    "restricted_matrix = cluster_distance_matrix[:90, :90]\n",
    "restricted_matrix = (restricted_matrix - restricted_matrix.min())/restricted_matrix.max()\n",
    "\n",
    "fig, ax = plt.subplots(figsize=(16, 8), ncols=2)\n",
    "ax[0].matshow(full_matrix, cmap=plt.get_cmap('Blues'),\n",
    "              norm=matplotlib.colors.LogNorm(vmin=full_matrix[0,1], vmax=1));\n",
    "ax[0].set_title(\"All destinations\");\n",
    "\n",
    "ax[1].matshow(restricted_matrix, cmap=plt.get_cmap('Blues'),\n",
    "              norm=matplotlib.colors.LogNorm(vmin=restricted_matrix[0,1], vmax=1));\n",
    "ax[1].set_title(\"Under 20 kilometers\");"
   ]
  },
  {
   "cell_type": "markdown",
   "metadata": {
    "collapsed": false
   },
   "source": [
    "From the distance matrices we see higher level groupings that could well indicate, Copenhagen, Lyngby, Sealand, Aarhus, USA etc. The smaller squares along the diagonal is the inter-community distances. So in Aarhus I tend to vist multiple locations that are close to each other relative to the distance from Copenhagen. A hierarchial clustering of stop locations would allow us to analyse stops within and across communities but I'm leaving that out for now. "
   ]
  },
  {
   "cell_type": "markdown",
   "metadata": {},
   "source": [
    "### Visualizing stops on maps\n",
    "Using maps can be helpful in understanding both data and results from algorithms since they reflect the way we understand and think about the physical world. I am using Folium, a library that with ease takes a list of locations and plots them in Leaflet using maps from OpenStreetMap. On the map we get a visualization of all the stops but aggregated in clusters based on distance and zoom level. "
   ]
  },
  {
   "cell_type": "code",
   "execution_count": null,
   "metadata": {
    "collapsed": false
   },
   "outputs": [],
   "source": [
    "my_map = folium.Map(location=(55.7004128, 12.5527339), zoom_start=8, tiles='Stamen Toner')\n",
    "MarkerCluster(cluster_medians[['lat', 'lon']].values, popups=cluster_medians['address']).add_to(my_map)\n",
    "display(my_map);"
   ]
  },
  {
   "cell_type": "markdown",
   "metadata": {},
   "source": [
    "## Paths\n",
    "We define paths as the trajectories between stops with the assumptions that we are able to correctly identify stops and there is a sequence of points that connect two stops in a both spatial and temporal continuous order. "
   ]
  },
  {
   "cell_type": "markdown",
   "metadata": {},
   "source": [
    "### Speed\n",
    "Time, distance and speed between points are useful for both inference about behaviour and detection of artifacts and errors in the data. Because the earth is not flat I use the [Haversine](https://en.wikipedia.org/wiki/Haversine_formula) distance measure between two points. "
   ]
  },
  {
   "cell_type": "code",
   "execution_count": null,
   "metadata": {
    "collapsed": true
   },
   "outputs": [],
   "source": [
    "def haversine(in_df):\n",
    "    _df = in_df.copy()\n",
    "    _df = _df[['lat', 'lon']].applymap(np.radians)\n",
    "    df_diff = (_df - _df.shift(1))[1:]\n",
    "    a = np.sin(df_diff['lat'].values / 2) ** 2 + \\\n",
    "        np.cos(_df['lat'].shift(1)[1:].values) * \\\n",
    "        np.cos(_df['lat'][:-1]).values * \\\n",
    "        np.sin(df_diff['lon'] / 2) ** 2\n",
    "    c = 2 * np.arcsin(np.sqrt(a))\n",
    "    m = 6367000 * c\n",
    "    return m"
   ]
  },
  {
   "cell_type": "code",
   "execution_count": null,
   "metadata": {
    "collapsed": false
   },
   "outputs": [],
   "source": [
    "df['distance'] = haversine(df)\n",
    "df['time_diff'] = ((df['arrival'] - df['arrival'].shift(1))[1:] / 1e9)\n",
    "df['speed'] = (df['distance'] / df['time_diff']) * 3.6\n",
    "df = df.dropna()"
   ]
  },
  {
   "cell_type": "markdown",
   "metadata": {},
   "source": [
    "For some reason there's often errors in the data where one datapoint is far away from the others. To detect and remove these I filter the speed with a simple edge detection filter and threshold at 150 which at this point is heuristically set. "
   ]
  },
  {
   "cell_type": "code",
   "execution_count": null,
   "metadata": {
    "collapsed": true
   },
   "outputs": [],
   "source": [
    "spike_filter = [-0.1, -0.1, -0.1, -0.1, -0.1, 1, -0.1, -0.1, -0.1, -0.1, -0.1]\n",
    "spikes = np.convolve(spike_filter, df['speed'].values)[5:-5]\n",
    "df = df[spikes < 150]"
   ]
  },
  {
   "cell_type": "markdown",
   "metadata": {},
   "source": [
    "### Extracting paths\n",
    "Extract every path between stops departure and arrival times. Save the _to_ and _from_ stop labels and give each trip a unique id. I also aggregate some info on each path so we don't have to calculate that every time we need it. "
   ]
  },
  {
   "cell_type": "code",
   "execution_count": null,
   "metadata": {
    "collapsed": false
   },
   "outputs": [],
   "source": [
    "path_info = []\n",
    "paths = pd.DataFrame()\n",
    "user, prev_lon, prev_lat, prev_arrival, prev_departure, prev_label, time_spent = stops.ix[0]\n",
    "path_number = 0\n",
    "\n",
    "for stop in stops[1:].itertuples(index=False):\n",
    "    user, lon, lat, arrival, departure, label, time_spent = stop\n",
    "    path = df.loc[pd.to_datetime(prev_departure):pd.to_datetime(arrival)].copy()\n",
    "    \n",
    "    path['from'] = prev_label\n",
    "    path['to'] = label\n",
    "    path['id'] = path_number\n",
    "    paths = pd.concat((paths, path))\n",
    "    \n",
    "    path_info.append([distance((prev_lat, prev_lon), (lat, lon)).km, \n",
    "                      (arrival - prev_departure)/1e9,\n",
    "                      path['to'].count()])\n",
    "    \n",
    "    # Save for next iteration\n",
    "    prev_departure, prev_label, prev_lat, prev_lon = departure, label, lat, lon\n",
    "    path_number += 1\n",
    "                             \n",
    "paths_info = pd.DataFrame(path_info, columns=['distance', 'duration', 'count'])"
   ]
  },
  {
   "cell_type": "markdown",
   "metadata": {},
   "source": [
    "Many of the paths unfortunately consists of just few datapoints so we will trim those away for now. It would be interesting to interpolate paths by finding patterns in the behaviour from solely the *from* and *to* locations. If we have just one densely sampled trajectory on this path we can use that data in the rest. Alternatively we can pool all the data on this path and find the most probable and use that for the paths with few samples. "
   ]
  },
  {
   "cell_type": "code",
   "execution_count": null,
   "metadata": {
    "collapsed": false
   },
   "outputs": [],
   "source": [
    "# Only keep paths with more than 4 samples\n",
    "paths = paths[paths['id'].isin(paths_info[paths_info['count'] > 4].index.values)]"
   ]
  },
  {
   "cell_type": "markdown",
   "metadata": {},
   "source": [
    "This way we can find paths to and from work, independent on their start or end point. "
   ]
  },
  {
   "cell_type": "code",
   "execution_count": null,
   "metadata": {
    "collapsed": false
   },
   "outputs": [],
   "source": [
    "paths_to_work = paths[(paths['to']==label_work)]\n",
    "paths_from_work = paths[(paths['from']==label_work)]\n",
    "print(\"Number of paths to (%d) and from (%d) work\" % (len(np.unique(paths_to_work['id'])),\n",
    "      len(np.unique(paths_from_work['id']))))"
   ]
  },
  {
   "cell_type": "markdown",
   "metadata": {
    "collapsed": false
   },
   "source": [
    "The number of paths to and from work is the same but from the previous map I discovered that the clustering algorithm correctly identified 3 clusters at DTU and only one of these are identified as *work*. To identify the how correct the path labelling is we need to take a closer look at the paths and stop locations but that will have to wait for now. We can visualize the paths on a map to validate the correctness. Be there are a large number of paths I have scaled the opacity of each path with the number of location-points in the path. This way well represented and repeated paths stand out. "
   ]
  },
  {
   "cell_type": "code",
   "execution_count": null,
   "metadata": {
    "collapsed": false,
    "scrolled": false
   },
   "outputs": [],
   "source": [
    "paths_from_work_ids = np.unique(paths_from_work['id'])\n",
    "paths_to_work_ids = np.unique(paths_to_work['id'])\n",
    "\n",
    "# Create a map and add path\n",
    "my_map = folium.Map(location=(55.7463042, 12.5477255), zoom_start=12, tiles='Stamen Toner')\n",
    "for path_id in paths_to_work_ids:       \n",
    "    opacity = np.min([paths_info['count'].loc[path_id]/500.0, 1])\n",
    "    PolyLine(paths_to_work[['lat', 'lon']][paths_to_work['id'] == path_id].values, opacity=opacity).add_to(my_map)\n",
    "    \n",
    "for path_id in paths_from_work_ids:       \n",
    "    opacity = np.min([paths_info['count'].loc[path_id]/500.0, 1])\n",
    "    PolyLine(paths_from_work[['lat', 'lon']][paths_from_work['id'] == path_id].values, color='red', opacity=opacity).add_to(my_map)\n",
    "    \n",
    "display(my_map);"
   ]
  },
  {
   "cell_type": "markdown",
   "metadata": {},
   "source": [
    "It is easy to identify the most used route to and from work and still possible to identify alternative routes. The *true* path is captured very well but there also exist a lot of sparsely sampled paths that provide much lower resolution. Further work in this would be to build a model over the all paths and when we analyse a path that contains a lot noise or just a few data points, we can get a better posterior estimate using the model. "
   ]
  },
  {
   "cell_type": "markdown",
   "metadata": {},
   "source": [
    "### Google Maps API"
   ]
  },
  {
   "cell_type": "markdown",
   "metadata": {
    "collapsed": false
   },
   "source": [
    "All the Google Maps API services can be accessed through the official Python library from Google, *googlemaps*. The services are documented at https://developers.google.com/maps/web-services/"
   ]
  },
  {
   "cell_type": "code",
   "execution_count": null,
   "metadata": {
    "collapsed": false
   },
   "outputs": [],
   "source": [
    "gmaps = googlemaps.Client(key=api_key)"
   ]
  },
  {
   "cell_type": "markdown",
   "metadata": {},
   "source": [
    "### Map-matching - Snap to roads\n",
    "With a set of location points we can ask Google's service *Snap to roads* what is the most likely road these points follow. In case of noise this service is very nice, but it also requires you to make some assumptions about your data and Google's map quality. E.g. did the person generating the data actually follow a road known to Google? They also provide the option of interpolation so the returned path follows the road even when there's no original datapoint available. "
   ]
  },
  {
   "cell_type": "code",
   "execution_count": null,
   "metadata": {
    "collapsed": false
   },
   "outputs": [],
   "source": [
    "def batch(iterable, n=1):\n",
    "    l = len(iterable)\n",
    "    for ndx in range(0, l, n):\n",
    "        yield iterable[ndx:min(ndx + n, l)]\n",
    "\n",
    "def road_snap_to_array(path):\n",
    "    return np.asarray([[d['location']['latitude'], d['location']['longitude']] for d in path])\n",
    "\n",
    "def road_snap(df, interpolate=False):\n",
    "    # Query limit of 100 points/request\n",
    "    snaps = np.empty((0,2))\n",
    "    for x in batch(df[['lat', 'lon']], 100):\n",
    "        snaps = np.concatenate((snaps, road_snap_to_array(gmaps.snap_to_roads(x.values, interpolate=interpolate))), axis=0)\n",
    "    return snaps"
   ]
  },
  {
   "cell_type": "markdown",
   "metadata": {
    "collapsed": false
   },
   "source": [
    "Lets extract a path from our list of paths and query that with interpolation on and off and visulize it on a map. The red is the raw path, the blue the *snapped to road* and the green is the interpolated path. "
   ]
  },
  {
   "cell_type": "code",
   "execution_count": null,
   "metadata": {
    "collapsed": true
   },
   "outputs": [],
   "source": [
    "# Define path to query\n",
    "my_path = paths.loc[paths['id'] == np.unique(paths['id'])[0]]\n",
    "\n",
    "# Get snaps for all points\n",
    "snaps = road_snap(my_path, interpolate=False)\n",
    "snaps_interp = road_snap(my_path, interpolate=True)"
   ]
  },
  {
   "cell_type": "code",
   "execution_count": null,
   "metadata": {
    "collapsed": false
   },
   "outputs": [],
   "source": [
    "my_map = folium.Map(location=tuple(my_path[['lat', 'lon']].median().values), zoom_start=14, tiles='Stamen Toner')\n",
    "PolyLine(my_path[['lat', 'lon']].values, color='red', opacity=0.8).add_to(my_map)\n",
    "PolyLine(snaps, color='blue', opacity=0.8).add_to(my_map)\n",
    "PolyLine(snaps_interp, color='green', opacity=0.8).add_to(my_map)\n",
    "display(my_map)"
   ]
  },
  {
   "cell_type": "markdown",
   "metadata": {
    "collapsed": false
   },
   "source": [
    "The result is not very good in this case because the service makes some wrong assumptions about which roads to snap to even though the original datapoint is very close to the correct road. I suspect the density of datapoints are too low for the service to really work. Another reason could be that some of the roads where it went wrong are closed for cars and the service is aware of this. "
   ]
  },
  {
   "cell_type": "markdown",
   "metadata": {},
   "source": [
    "### Elevation\n",
    "Google provides an API to get the elevation of a specific location. If you provide a path the resolution, or \"inverse accuracy\", is determined by how spatially close your location points are. The API can only handle about 50 points per request but it is also possible to specify a path by start and end location in which the service interpolates locations in a direct line along the path"
   ]
  },
  {
   "cell_type": "code",
   "execution_count": null,
   "metadata": {
    "collapsed": true
   },
   "outputs": [],
   "source": [
    "def elevation_to_array(path):\n",
    "    return np.asarray([[d['elevation'], d['resolution']] for d in path])\n",
    "\n",
    "def get_elevation(df):\n",
    "    elevation = np.empty((0,2))\n",
    "    for x in batch(df[['lat', 'lon']], 50):\n",
    "        elevation = np.concatenate((elevation, elevation_to_array(gmaps.elevation(x.values))), axis=0)\n",
    "    return elevation"
   ]
  },
  {
   "cell_type": "markdown",
   "metadata": {},
   "source": [
    "The API has a limit of 2500 free requests per day so in the testing phase we need to limit our queries. In this case we just use the path from above."
   ]
  },
  {
   "cell_type": "code",
   "execution_count": null,
   "metadata": {
    "collapsed": true
   },
   "outputs": [],
   "source": [
    "# Get elevation for all paths and add back to dataframe\n",
    "elevation = get_elevation(my_path)\n",
    "my_path['elevation'] = elevation[:, 0]\n",
    "my_path['resolution'] = elevation[:, 1]"
   ]
  },
  {
   "cell_type": "markdown",
   "metadata": {},
   "source": [
    "We can also get the elevation in a straight line between start and stop locations"
   ]
  },
  {
   "cell_type": "code",
   "execution_count": null,
   "metadata": {
    "collapsed": true
   },
   "outputs": [],
   "source": [
    "start_point = my_path[['lat', 'lon']].ix[0].values\n",
    "end_point = my_path[['lat', 'lon']].ix[-1].values\n",
    "birdpath_elevation = elevation_to_array(gmaps.elevation_along_path(path=list((start_point, end_point)), samples=len(my_path)))"
   ]
  },
  {
   "cell_type": "code",
   "execution_count": null,
   "metadata": {
    "collapsed": false
   },
   "outputs": [],
   "source": [
    "fig, ax = plt.subplots(figsize=(16,4))\n",
    "ax.plot(birdpath_elevation[:, 0], label='Straight line (interpolated)')\n",
    "ax.plot(my_path[['elevation']].values, label='Sampled path');\n",
    "ax.set_ylabel('Meters'), ax.set_xlabel('Data point'), ax.set_title('Elevation along paths')\n",
    "plt.legend();"
   ]
  },
  {
   "cell_type": "markdown",
   "metadata": {
    "collapsed": false
   },
   "source": [
    "If you are familiar with the area the path goes through(north to south), the elevation curve fits well with what you would expect. The straigth line interpolation is very close to the true elevation but that follows from the path being very straigth in itself. Instead of interpolating the elevation from start to end it could be useful to interpolate between points along the path if they are far apart."
   ]
  },
  {
   "cell_type": "markdown",
   "metadata": {},
   "source": [
    "## Final remarks\n",
    "Computational movement analysis is very powerful when quantifying human behaviour and as location data is practically free to sample from modern smartphones, the potential of research in this field is vast. As both Spek and Laube mentions, the analysis becomes much richer when aggregating data from additional sensors but many of these are also available in smartphones. In my project we also sample the accelerometer and the plan is to combine these with inferences from the movement analysis. The accelerometer provides high resolution information of small local changes in position but is not suited for inference of higher scale dynamics. Combining with location data we can make stronger inferences about what type of activity or situation people are in. As showed we can with relatively high certainty identify the domain (transport, home, work, leisure) people are in and using accelerometer data we hope to calculate a precise estimation of energy expenditure. The raw accelerometer data is a good measure in many cases but by having the speed and elevation when people are biking or walking in a hilly terrain, the estimation becomes much more accurate. Same goes for inference of the type of activity. \n",
    "\n",
    "The analysis up to this point has prepared the movement data for the combined modelling but it is not extensive and as comments along the way suggests there is various ways of improving and extending, including leveraging more advanced methods and other APIs. It has, however, shown how to acquire, pre-process and analyse movement data in different ways for different purposes using both simple visualisations and external services."
   ]
  },
  {
   "cell_type": "markdown",
   "metadata": {},
   "source": [
    "## References\n",
    "Cuttone, Andrea, Sune Lehmann, and Jakob Eg Larsen. 2014. “Inferring Human Mobility from Sparse Low Accuracy Mobile Sensing Data.” Proceedings of the 2014 ACM International Joint Conference on Pervasive and Ubiquitous Computing Adjunct Publication - UbiComp ’14 Adjunct, 995–1004.\n",
    "\n",
    "Laube, Patrick. 2015. “The Low Hanging Fruit Is Gone: Achievements and Challenges of Computational Movement Analysis.” SIGSPATIAL Special 7 (1). New York, NY, USA: ACM: 3–10.\n",
    "\n",
    "Singh, Smita. 2015. “Spatial Temporal Analysis of Social Media Data.” Technische Universität München. [PDF](http://129.187.45.33/CartoMasterNew/fileadmin/user_upload/Smita_Report.pdf)\n",
    "\n",
    "Stopczynski, Arkadiusz, Vedran Sekara, Piotr Sapiezynski, Andrea Cuttone, Mette My Madsen, Jakob Eg Larsen, and Sune Lehmann. 2014. “Measuring Large-Scale Social Networks with High Resolution.” PloS One 9 (4): e95978.\n",
    "\n",
    "Van der Spek, Stefan, Jeroen Van Schaick, Peter De Bois, and Remco De Haan. 2009. “Sensing Human Activity: GPS Tracking.” Sensors  9 (4). Molecular Diversity Preservation International: 3033–55."
   ]
  }
 ],
 "metadata": {
  "kernelspec": {
   "display_name": "Python 2",
   "language": "python",
   "name": "python2"
  },
  "language_info": {
   "codemirror_mode": {
    "name": "ipython",
    "version": 2
   },
   "file_extension": ".py",
   "mimetype": "text/x-python",
   "name": "python",
   "nbconvert_exporter": "python",
   "pygments_lexer": "ipython2",
   "version": "2.7.11"
  }
 },
 "nbformat": 4,
 "nbformat_minor": 0
}
